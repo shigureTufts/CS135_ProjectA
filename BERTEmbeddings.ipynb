{
 "cells": [
  {
   "cell_type": "markdown",
   "metadata": {},
   "source": [
    "## Generating Embeddings with BERT (Bidirectional Encoder Representations from Transformers) \n",
    "\n",
    "### What is BERT?\n",
    "BERT is a large state-of-the-art neural network that has been trained on a large corpora of text (millions of sentences). Its applications include but are not limited to:\n",
    "\n",
    "- Sentiment analysis\n",
    "- Text classification\n",
    "- Question answering systems\n",
    " \n",
    "In this notebook, we walk through how BERT generates fixed-length embeddings (features) from a sentence. You could think of these embeddings as an alternate feature extraction technique compared to bag of words. The BERT model has 2 main components as shown below \n",
    "\n"
   ]
  },
  {
   "cell_type": "code",
   "execution_count": 2,
   "metadata": {},
   "outputs": [],
   "source": [
    "# Install the required libraries (if not already installed)\n",
    "# !pip install transformers"
   ]
  },
  {
   "cell_type": "markdown",
   "metadata": {},
   "source": [
    "## 1. Tokenizer (Converting sentences into series of numerical tokens):\n",
    "\n",
    "The tokenizer in BERT is like a translator that converts sentences into a series of numerical tokens that the BERT model can understand. Specifically, it does the following:\n",
    "\n",
    "- Splits Text: It breaks down sentences into smaller pieces called tokens. These tokens can be as short as one character or as long as one word. For example, the word \"chatting\" might be split into \"chat\" and \"##ting\".\n",
    "\n",
    "- Converts Tokens to IDs: Each token has a unique ID in BERT's vocabulary. The tokenizer maps every token to its corresponding ID. This is like looking up the \"meaning\" of the word in BERT's dictionary.\n",
    "\n",
    "- Adds Special Tokens: BERT requires certain special tokens for its tasks, like [CLS] at the beginning of a sentence and [SEP] at the end or between two sentences. The tokenizer adds these in.\n",
    "\n",
    "\n",
    "### Example usage of the tokenizer\n",
    "\n",
    "In the cell below, we see how BERT tokenizes 3 sentences and decodes them back.\n",
    "\n",
    "We'll use the following example sentences:\n",
    "\n",
    "1. \"The sky is blue.\"\n",
    "2. \"Sky is clear today.\"\n",
    "3. \"Look at the clear blue sky.\"\n"
   ]
  },
  {
   "cell_type": "code",
   "execution_count": 3,
   "metadata": {},
   "outputs": [
    {
     "name": "stderr",
     "output_type": "stream",
     "text": [
      "C:\\Users\\arman\\.conda\\envs\\cs135_env\\lib\\site-packages\\tqdm\\auto.py:21: TqdmWarning: IProgress not found. Please update jupyter and ipywidgets. See https://ipywidgets.readthedocs.io/en/stable/user_install.html\n",
      "  from .autonotebook import tqdm as notebook_tqdm\n"
     ]
    },
    {
     "name": "stdout",
     "output_type": "stream",
     "text": [
      "----------------------------------------------\n",
      "Examples of tokenizing the sentences with BERT\n",
      "----------------------------------------------\n",
      "The sky is blue. is enocoded as : [101, 1109, 3901, 1110, 2221, 119, 102, 0, 0]\n",
      "Sky is clear today. is enocoded as : [101, 5751, 1110, 2330, 2052, 119, 102, 0, 0]\n",
      "Look at the clear blue sky. is enocoded as : [101, 4785, 1120, 1103, 2330, 2221, 3901, 119, 102]\n",
      "----------------------------------------------\n",
      "Examples of decoding the tokens back to English\n",
      "----------------------------------------------\n",
      "Decoded tokens back into text:  [CLS] The sky is blue. [SEP] [PAD] [PAD]\n",
      "Decoded tokens back into text:  [CLS] Sky is clear today. [SEP] [PAD] [PAD]\n",
      "Decoded tokens back into text:  [CLS] Look at the clear blue sky. [SEP]\n"
     ]
    }
   ],
   "source": [
    "# Import required libraries\n",
    "from transformers import AutoTokenizer\n",
    "\n",
    "# # Load pre-trained BERT tokenizer and model\n",
    "sentences = [\"The sky is blue.\", \"Sky is clear today.\", \"Look at the clear blue sky.\"]\n",
    "tokenizer = AutoTokenizer.from_pretrained(\"bert-base-cased\")\n",
    "encoded_text = tokenizer(sentences, padding=True,\n",
    "                         max_length=10,\n",
    "                         truncation=True)['input_ids']\n",
    "\n",
    "print('----------------------------------------------')\n",
    "print('Examples of tokenizing the sentences with BERT')\n",
    "print('----------------------------------------------')\n",
    "for jj, txt in enumerate(sentences):\n",
    "    print('%s is enocoded as : %s'%(txt, encoded_text[jj]))\n",
    "\n",
    "print('----------------------------------------------')\n",
    "print('Examples of decoding the tokens back to English')\n",
    "print('----------------------------------------------')\n",
    "for enc in encoded_text:\n",
    "    decoded_text = tokenizer.decode(enc)\n",
    "    print(\"Decoded tokens back into text: \", decoded_text)"
   ]
  },
  {
   "cell_type": "markdown",
   "metadata": {},
   "source": [
    "## 2. Model (Extracting meaningful feature representations from the sentences):\n",
    "\n",
    "Once the text is tokenized and converted into the necessary format, it's fed into the BERT model. \n",
    "The **model** processes these inputs to generate contextual embeddings or representations for each token. These representations can then be utilized for various downstream tasks like classification, entity recognition, and more."
   ]
  },
  {
   "cell_type": "code",
   "execution_count": 23,
   "metadata": {},
   "outputs": [
    {
     "name": "stdout",
     "output_type": "stream",
     "text": [
      "-----------------------------------------------------------------------------------------------------------\n",
      "The sentence \"The sky is blue.\" has been converted to a feature representation of shape (1, 768)\n",
      "-----------------------------------------------------------------------------------------------------------\n",
      "[ 0.229  0.012 -0.139 -0.237 -0.437 -0.553  0.21   0.847  0.17  -0.736\n",
      "  0.019 -0.11   0.38   0.424  0.418  0.06  -0.137  0.701  0.392 -0.189\n",
      "  0.124 -0.139 -0.308  0.088  0.13  -0.334 -0.078 -0.147  0.238  0.005\n",
      " -0.099  0.484 -0.337 -0.415  0.414 -0.065  0.479 -0.037 -0.126  0.332\n",
      " -0.148 -0.099  0.347 -0.211  0.294 -0.679 -2.25  -0.413 -0.084 -0.049\n",
      "  0.376 -0.534  0.055  0.561 -0.002  0.842 -0.419  0.756  0.367  0.318\n",
      "  0.211  0.056  0.023 -0.19   0.364  0.389 -0.157  0.268 -0.03   0.233\n",
      " -0.702 -0.283  0.695 -0.329 -0.286  0.069 -0.524  0.339 -0.061 -0.455\n",
      "  0.245  0.815  0.2    0.419  0.149  0.381 -0.742 -0.676  0.282  0.293\n",
      " -0.382  0.198 -0.349  0.774  0.174 -0.151 -0.058  0.204  0.093  0.529\n",
      "  0.57   0.12   0.581  0.147 -0.09   0.254 -0.341 -0.437  0.545 -2.772\n",
      "  0.31  -0.325  0.084  0.078 -0.234  0.485 -0.077  0.063 -0.329 -0.137\n",
      "  0.027 -0.183  0.016 -0.222 -0.232  0.213  0.134 -0.25   0.276  0.206\n",
      "  0.324  0.676  0.093 -0.66  -0.2    0.16   0.946  0.206 -0.38  -0.176\n",
      " -0.485 -0.195 -2.812  0.265  0.478  0.3   -0.209 -0.104  0.04   0.112\n",
      "  0.329 -0.238  0.05   0.281 -0.185 -0.338 -0.083 -0.117  0.619  0.154\n",
      "  0.118 -0.465  0.412 -0.235 -0.503  0.314  0.722  0.357 -0.163  0.143\n",
      " -0.359  0.315  0.076 -0.128  0.327 -0.435 -0.095  0.385  0.016 -0.088\n",
      " -0.12   0.21   0.311 -0.113  0.431 -0.181  0.526 -0.107 -0.54   0.407\n",
      "  0.129 -0.322 -0.009  0.181 -0.067 -0.281  0.122 -0.826  0.054  0.168\n",
      " -0.023 -0.228 -0.224  0.194 -0.17   4.035  0.176 -0.595  0.095 -0.015\n",
      " -0.259  0.084 -0.242  0.074  0.01  -0.316  0.294  0.225 -0.023  0.142\n",
      "  0.283  0.463 -0.186  0.07  -0.107 -0.103 -0.139  0.606 -0.49  -1.13\n",
      " -0.166 -0.097 -0.541  0.503 -0.502 -0.236 -0.295 -0.448  0.553 -0.066\n",
      "  0.055 -0.065  0.038  0.159 -0.114  0.711  0.436 -0.095  0.479 -0.134\n",
      "  0.646 -0.381 -0.036 -0.421 -0.492  0.259  0.377  0.158 -0.429  0.006\n",
      " -0.18  -0.124  0.73   0.122 -0.675 -0.527 -0.027 -0.025 -0.182 -0.242\n",
      "  0.053 -0.193 -0.107 -3.976 -0.149 -0.066  0.519  0.342 -0.42   0.302\n",
      "  0.683  0.371 -0.788  0.516 -0.064 -0.111  0.182 -0.224  0.375  0.034\n",
      " -0.121 -0.298 -0.132  0.263  0.011 -0.118 -0.018 -0.045 -0.169 -0.348\n",
      " -0.272  0.092 -0.044  0.145 -0.146 -0.059  0.254 -0.009 -1.604  0.567\n",
      " -0.103 -0.069  0.091  0.044  0.603 -0.044 -0.463 -0.004  0.089 -0.328\n",
      " -0.075  0.386  0.405 -0.037  0.208 -0.024  0.279  0.148 -0.14   0.252\n",
      " -0.008 -0.346  0.424  0.644 -0.343 -0.186 -0.322  0.19  -0.012  0.165\n",
      "  0.14  -0.418 -0.439 -0.26   0.539  0.014  0.546  0.111 -0.305  0.764\n",
      "  0.055  0.498  0.861  0.373 -0.246 -0.332  0.417  0.147 -0.082  0.114\n",
      "  0.941 -0.088 -0.193 -0.361  0.381 -0.023  0.169  0.125  0.732 -0.311\n",
      " -0.182  0.239  0.583 -0.866  0.539 -0.488 -0.177  0.353  0.065  0.014\n",
      " -0.662 -1.194 -0.104 -0.039 -0.192  0.098  0.481 -0.189  0.098 -0.332\n",
      " -0.261  0.472 -0.271 -0.219 -0.035 -0.045 -0.408 -0.378 -0.651  0.616\n",
      "  0.359  0.255 -0.178 -0.197  0.212 -0.726 -0.243 -0.192 -0.522 -0.681\n",
      " -0.255  0.348 -0.43  -0.478 -0.175  0.29  -0.267  0.239 -0.453 -0.617\n",
      "  0.607 -0.127  0.773 -0.326  0.596  0.644  0.     0.093  0.356  0.431\n",
      "  0.246  0.113 -0.588 -0.333  0.061 -0.604 -0.636 -0.235 -0.127 -0.258\n",
      " -0.421 -0.419 -0.301 -0.151 -0.294 -0.024  0.285  0.251  0.106 -0.\n",
      " -0.682  0.249 -0.31   0.39   0.094 -0.078 -0.527  0.565  0.107 -0.174\n",
      "  0.042 -0.515  0.079 -0.321  0.161  0.113  0.11  -0.266 -0.102  0.291\n",
      " -1.251  0.024  0.245  0.052  0.562 -0.215 -0.532  0.869 -0.102  0.134\n",
      " -0.21  -0.143 -0.343  0.51  -0.169  0.068 -0.113 -0.481 -0.116 -0.133\n",
      " -0.384  0.237  0.07   0.057 -0.137  0.003 -0.018  0.47  -0.006  0.334\n",
      " -0.311 -0.911 -0.686 -0.467  0.122  0.568  0.386 -0.205  0.692  0.645\n",
      " -0.351  0.64   0.198 -0.371  0.388  0.428 -0.333  0.298 -0.158 -0.496\n",
      " -0.098 -0.081 -0.248  0.027  0.351 -0.273  0.089  0.188 -0.436 -0.251\n",
      "  0.372 -0.298 -0.636  0.084 -0.529 -0.134  0.011 -0.288 -0.195  0.105\n",
      "  0.274 -0.282  0.2    0.417 -0.702  0.136 -0.014  0.372  0.007 -0.28\n",
      "  0.113 -0.269 -0.086  0.157  0.253  0.262 -0.368 -0.352 -0.229 -0.028\n",
      " -0.456 -0.247  0.507  0.057  0.04   0.063  0.324  0.038  0.218 -0.38\n",
      " -0.17   0.828  0.332  0.036 -0.194  0.606  0.797  0.037 -0.407 -0.31\n",
      " -0.334 -0.307 -0.274 -0.05   0.024 -0.458 -0.015 -0.598  2.285  0.564\n",
      "  0.089 -0.711  0.112 -0.069 -0.316  0.503 -0.647  0.168 -0.109 -0.208\n",
      "  0.058  0.313  0.474  0.093 -0.189  0.014 -0.607 -0.102 -0.327  0.843\n",
      "  0.108 -0.3    0.224  0.3   -0.048  0.047 -0.083  0.678 -0.197  0.344\n",
      "  0.093  0.446 -0.48   0.555 -0.111 -0.241 -0.22   0.43  -0.073 -0.706\n",
      "  0.553  0.015 -0.054  0.844 -0.276 -0.004  0.76   0.241 -0.276 -0.174\n",
      " -0.62   0.4   -0.481 -0.066  0.196  0.126 -0.322  0.182  0.088  0.286\n",
      "  0.508 -0.098 -0.105 -0.292 -0.307 -0.048  0.379 -0.52  -0.148  0.47\n",
      "  0.713  0.038  0.383 -0.273  0.396 -0.052 -0.174 -3.231  0.072  0.401\n",
      "  0.072  0.157  0.314  0.253 -0.064  0.02  -0.505  0.275  0.279  0.55\n",
      "  0.405  0.329  0.481  0.36  -0.42  -0.327 -0.027  0.326  0.06   0.256\n",
      " -0.386 -0.468  0.453  0.071 -0.214  0.117  0.235  0.139  0.553  0.182\n",
      "  0.096 -0.121 -0.138 -0.385 -0.053  0.431 -0.02  -0.153  0.448 -0.011\n",
      " -0.19  -0.02  -0.071  0.283 -0.392  0.62  -0.415 -0.095  0.15   0.102\n",
      "  0.116  0.293 -0.159 -0.092  0.104 -0.019 -0.164  0.012  0.409  0.218\n",
      "  0.066  0.476 -0.126 -0.389  0.14   0.161 -0.176 -0.16  -0.273  0.431\n",
      " -0.111 -0.105  0.166  0.799  0.27   0.291  0.019 -0.159  0.156 -0.682\n",
      "  0.129 -0.086 -8.11   0.07  -0.225 -0.443  0.198 -0.219 -0.026 -0.062\n",
      "  0.082  0.007  0.118  0.542  0.154 -0.487  0.419  0.43 ]\n"
     ]
    }
   ],
   "source": [
    "import torch\n",
    "from transformers import BertTokenizer, BertModel\n",
    "import numpy as np\n",
    "import pandas as pd\n",
    "import os\n",
    "import sys\n",
    "# Initialize BERT tokenizer and model\n",
    "model_name = \"bert-base-uncased\"\n",
    "tokenizer = BertTokenizer.from_pretrained(model_name)\n",
    "model = BertModel.from_pretrained(model_name)\n",
    "\n",
    "def get_bert_embedding(sentence_list, pooling_strategy='cls'):\n",
    "    embedding_list = []\n",
    "    for nn, sentence in enumerate(sentence_list):\n",
    "        if (nn%100==0)&(nn>0):\n",
    "            print('Done with %d sentences'%nn)\n",
    "        \n",
    "        # Tokenize the sentence and get the output from BERT\n",
    "        inputs = tokenizer(sentence, return_tensors=\"pt\")\n",
    "        with torch.no_grad():\n",
    "            outputs = model(**inputs)\n",
    "        # Take the embeddings from the last hidden state (optionally, one can use pooling techniques for different representations)\n",
    "        # Here, we take the [CLS] token representation as the sentence embedding\n",
    "        last_hidden_states = outputs.last_hidden_state[0]\n",
    "        \n",
    "        # Pooling strategies\n",
    "        if pooling_strategy == \"cls\":\n",
    "            sentence_embedding = last_hidden_states[0]\n",
    "        elif pooling_strategy == \"mean\":\n",
    "            sentence_embedding = torch.mean(last_hidden_states, dim=0)\n",
    "        elif pooling_strategy == \"max\":\n",
    "            sentence_embedding, _ = torch.max(last_hidden_states, dim=0)\n",
    "        else:\n",
    "            raise ValueError(f\"Unknown pooling strategy: {pooling_strategy}\")\n",
    "        \n",
    "        embedding_list.append(sentence_embedding)\n",
    "    return torch.stack(embedding_list)\n",
    "\n",
    "sentence = [sentences[0]]\n",
    "embedding = get_bert_embedding(sentence)\n",
    "\n",
    "np.set_printoptions(precision=3, suppress=True)\n",
    "print('-----------------------------------------------------------------------------------------------------------')\n",
    "print('The sentence \"%s\" has been converted to a feature representation of shape %s'%(sentence[0], embedding.numpy().shape))\n",
    "print('-----------------------------------------------------------------------------------------------------------')\n",
    "print(embedding.numpy()[0])"
   ]
  },
  {
   "cell_type": "markdown",
   "metadata": {},
   "source": [
    "## Generate embeddings from BERT for the movie review train and test sets\n",
    "\n",
    "Below, we generate the BERT embeddings for the movie reviews dataset provided to you. The embeddings are stored as numpy files in the data_reviews folder:\n",
    "\n",
    "- x_train_BERT_embeddings.npy : matrix of size 2400 x 768 containing 768 length features for each of the 2400 sentences in the training set\n",
    "- x_test_BERT_embeddings.npy : matrix of size 600 x 768 containing 768 length features for each of the 600 sentences in the test set\n",
    "\n",
    "Please note that these embeddings are **already provided to you in the data_reviews folder**. You can directly use the provided feature embeddings as inputs to your choice of classifier. If you would like to generate these feature representations again, run the code cells below. "
   ]
  },
  {
   "cell_type": "code",
   "execution_count": 5,
   "metadata": {},
   "outputs": [
    {
     "name": "stdout",
     "output_type": "stream",
     "text": [
      "Loading data...\n"
     ]
    }
   ],
   "source": [
    "print('Loading data...')\n",
    "x_train_df = pd.read_csv('data_reviews/x_train.csv')\n",
    "x_test_df = pd.read_csv('data_reviews/x_test.csv')\n",
    "\n",
    "tr_text_list = x_train_df['text'].values.tolist()\n",
    "te_text_list = x_test_df['text'].values.tolist()\n",
    "\n"
   ]
  },
  {
   "cell_type": "code",
   "execution_count": 6,
   "metadata": {},
   "outputs": [
    {
     "name": "stdout",
     "output_type": "stream",
     "text": [
      "Generating embeddings for train sequences...\n",
      "Done with 100 sentences\n",
      "Done with 200 sentences\n",
      "Done with 300 sentences\n",
      "Done with 400 sentences\n",
      "Done with 500 sentences\n",
      "Done with 600 sentences\n",
      "Done with 700 sentences\n",
      "Done with 800 sentences\n",
      "Done with 900 sentences\n",
      "Done with 1000 sentences\n",
      "Done with 1100 sentences\n",
      "Done with 1200 sentences\n",
      "Done with 1300 sentences\n",
      "Done with 1400 sentences\n",
      "Done with 1500 sentences\n",
      "Done with 1600 sentences\n",
      "Done with 1700 sentences\n",
      "Done with 1800 sentences\n",
      "Done with 1900 sentences\n",
      "Done with 2000 sentences\n",
      "Done with 2100 sentences\n",
      "Done with 2200 sentences\n",
      "Done with 2300 sentences\n",
      "Generating embeddings for test sequences...\n",
      "Done with 100 sentences\n",
      "Done with 200 sentences\n",
      "Done with 300 sentences\n",
      "Done with 400 sentences\n",
      "Done with 500 sentences\n",
      "tensor([[-0.5088,  0.0058,  0.0696,  ..., -0.0996,  0.0217,  0.5051],\n",
      "        [-0.2667,  0.0248, -0.1088,  ..., -0.2166,  0.5349,  0.5795],\n",
      "        [-0.6949, -0.0016,  0.0101,  ..., -0.3160,  0.1591,  0.4699],\n",
      "        ...,\n",
      "        [-0.5515, -0.2693, -0.1980,  ..., -0.1455,  0.0697,  0.5685],\n",
      "        [-0.2548, -0.0763,  0.3773,  ..., -0.2411,  0.2729,  0.6000],\n",
      "        [-0.1548,  0.2592,  0.1454,  ..., -0.2707,  0.4933,  0.2296]])\n"
     ]
    }
   ],
   "source": [
    "print('Generating embeddings for train sequences...')\n",
    "tr_embedding = get_bert_embedding(tr_text_list)\n",
    "\n",
    "print('Generating embeddings for test sequences...')\n",
    "te_embedding = get_bert_embedding(te_text_list)\n",
    "\n"
   ]
  },
  {
   "cell_type": "code",
   "execution_count": 40,
   "metadata": {},
   "outputs": [
    {
     "name": "stdout",
     "output_type": "stream",
     "text": [
      "If you have several dozen or several hundred contacts, then imagine the fun of sending each of them one by one.\n",
      "Done with 100 sentences\n",
      "torch.Size([111, 768])\n"
     ]
    }
   ],
   "source": [
    "# pd.set_option('display.width', 800)\n",
    "# pd.set_option('display.max_columns', 800)\n",
    "# np.set_printoptions(threshold=sys.maxsize)\n",
    "# file_path = 'data_reviews/test.txt'\n",
    "\n",
    "# with open(file_path, 'w') as fp:\n",
    "#     print(tr_text_list[300], file=fp)\n",
    "#     print(get_bert_embedding(tr_text_list[300]).shape, file=fp)\n",
    "\n",
    "\n",
    "print(tr_text_list[299])\n",
    "print(get_bert_embedding(tr_text_list[299]).shape)\n"
   ]
  },
  {
   "cell_type": "code",
   "execution_count": 7,
   "metadata": {},
   "outputs": [
    {
     "name": "stdout",
     "output_type": "stream",
     "text": [
      "Saving the train and test embeddings to C:\\Users\\arman\\IdeaProjects\\CS135_ProjectA\\data_reviews\n"
     ]
    }
   ],
   "source": [
    "tr_embeddings_ND = tr_embedding.numpy()\n",
    "te_embeddings_ND = te_embedding.numpy()\n",
    "\n",
    "save_dir = os.path.abspath('data_reviews/')\n",
    "print('Saving the train and test embeddings to %s'%save_dir)\n",
    "\n",
    "np.save(os.path.join(save_dir, 'x_train_BERT_embeddings.npy'), tr_embeddings_ND)\n",
    "np.save(os.path.join(save_dir, 'x_test_BERT_embeddings.npy'), te_embeddings_ND)"
   ]
  },
  {
   "cell_type": "markdown",
   "metadata": {},
   "source": [
    "## Show similarity between reviews using the embeddings"
   ]
  },
  {
   "cell_type": "code",
   "execution_count": 8,
   "metadata": {},
   "outputs": [],
   "source": [
    "from utils import calc_k_nearest_neighbors"
   ]
  },
  {
   "cell_type": "code",
   "execution_count": 9,
   "metadata": {},
   "outputs": [
    {
     "name": "stdout",
     "output_type": "stream",
     "text": [
      "------------------------------------------------------------------------------------\n",
      "Reviews that resemble to the sentence : \n",
      "Worst customer service.\n",
      "------------------------------------------------------------------------------------\n",
      "0) Worst customer service.\n",
      "1) Poor product.\n",
      "2) poor quality and service.\n",
      "3) Bad Quality.\n",
      "4) Bad Reception.\n",
      "------------------------------------------------------------------------------------\n",
      "Reviews that resemble to the sentence : \n",
      "I'm very disappointed with my decision.\n",
      "------------------------------------------------------------------------------------\n",
      "0) I'm very disappointed with my decision.\n",
      "1) I'm a bit disappointed.\n",
      "2) I was very disappointed in the movie.  \n",
      "3) I'm still trying to get over how bad it was.  \n",
      "4) I can't wait to go back.\n",
      "------------------------------------------------------------------------------------\n",
      "Reviews that resemble to the sentence : \n",
      "There's a horrible tick sound in the background on all my calls that I have never experienced before.\n",
      "------------------------------------------------------------------------------------\n",
      "0) There's a horrible tick sound in the background on all my calls that I have never experienced before.\n",
      "1) The only thing that I think could improve is the sound leaks out from the headset.\n",
      "2) I'm really disappointed all I have now is a charger that doesn't work.\n",
      "3) This is the first phone I've had that has been so cheaply made.\n",
      "4) I've also had problems with the phone reading the memory card in which I always turn it on and then off again.\n",
      "------------------------------------------------------------------------------------\n",
      "Reviews that resemble to the sentence : \n",
      "It doesn't make you look cool.\n",
      "------------------------------------------------------------------------------------\n",
      "0) It doesn't make you look cool.\n",
      "1) If you see it, you should probably just leave it on the shelf.  \n",
      "2) Seriously, it's not worth wasting your, or your kid's time on.  \n",
      "3) You'll love how thin it is.\n",
      "4) You can't beat the price on these.\n",
      "------------------------------------------------------------------------------------\n",
      "Reviews that resemble to the sentence : \n",
      "After my phone got to be about a year old, it's been slowly breaking despite much care on my part.\n",
      "------------------------------------------------------------------------------------\n",
      "0) After my phone got to be about a year old, it's been slowly breaking despite much care on my part.\n",
      "1) It is practically useless and did not add any kind of boost to my reception after I bought it.\n",
      "2) i got this phone around the end of may and i'm completely unhappy with it.\n",
      "3) I've also had problems with the phone reading the memory card in which I always turn it on and then off again.\n",
      "4) I put the latest OS on it (v1.15g), and it now likes to slow to a crawl and lock up every once in a while.\n",
      "------------------------------------------------------------------------------------\n",
      "Reviews that resemble to the sentence : \n",
      "The only thing that disappoint me is the infra red port (irda).\n",
      "------------------------------------------------------------------------------------\n",
      "0) The only thing that disappoint me is the infra red port (irda).\n",
      "1) The biggest complaint I have is, the battery drains superfast.\n",
      "2) That's a huge design flaw (unless I'm not using it correctly, which I don't think is the case).\n",
      "3) I have yet to run this new battery below two bars and that's three days without charging.\n",
      "4) In conclusion, I will not bother with this movie because a volcano in Los Angeles is nothing but nonsense.  \n",
      "------------------------------------------------------------------------------------\n",
      "Reviews that resemble to the sentence : \n",
      "It quit working after I'd used it for about 18 months, so I just purchased another one because this is the best headset I've ever owned.\n",
      "------------------------------------------------------------------------------------\n",
      "0) It quit working after I'd used it for about 18 months, so I just purchased another one because this is the best headset I've ever owned.\n",
      "1) I ordered this for sony Ericsson W810i but I think it only worked once (thats when I first used it).\n",
      "2) It's been my choice headset for years.Great sound; good volume; good noise cancellation.\n",
      "3) I've bought $5 wired headphones that sound better than these.\n",
      "4) It's uncomfortable and the sound quality is quite poor compared with the phone (Razr) or with my previous wired headset (that plugged into an LG).\n",
      "------------------------------------------------------------------------------------\n",
      "Reviews that resemble to the sentence : \n",
      "Unfortunately it did not work.\n",
      "------------------------------------------------------------------------------------\n",
      "0) Unfortunately it did not work.\n",
      "1) It worked very well.\n",
      "2) The charger arrived within the promised timeframe, but it did not work.\n",
      "3) The plug did not work very well.\n",
      "4) THAT one didn't work either.\n",
      "------------------------------------------------------------------------------------\n",
      "Reviews that resemble to the sentence : \n",
      "Excellent bluetooth headset.\n",
      "------------------------------------------------------------------------------------\n",
      "0) Excellent bluetooth headset.\n",
      "1) Excellent starter wireless headset.\n",
      "2) Excellent dual-purpose headset.\n",
      "3) Great Earpiece.\n",
      "4) Excellent wallet type phone case.\n"
     ]
    }
   ],
   "source": [
    "# choose some query sentences\n",
    "sentence_id_list = [5, 20, 70, 85, 92, 12, 521, 100, 712]\n",
    "\n",
    "# use K-nearest neighbors to find the 5 reviews that most closely resemble the query review\n",
    "for sentence_id in sentence_id_list:\n",
    "    query_QF = tr_embeddings_ND[sentence_id][np.newaxis, :]\n",
    "    _, nearest_ids_per_query = calc_k_nearest_neighbors(tr_embeddings_ND, query_QF, K=5)\n",
    "    nearest_ids = nearest_ids_per_query[0]\n",
    "\n",
    "    print('------------------------------------------------------------------------------------')\n",
    "    print('Reviews that resemble to the sentence : \\n%s'%tr_text_list[sentence_id])\n",
    "    print('------------------------------------------------------------------------------------')\n",
    "    for ii, idx in enumerate(nearest_ids):\n",
    "        print('%d) %s'%(ii, tr_text_list[idx]))\n",
    "\n"
   ]
  },
  {
   "cell_type": "code",
   "execution_count": null,
   "metadata": {},
   "outputs": [],
   "source": []
  }
 ],
 "metadata": {
  "kernelspec": {
   "display_name": "Python 3 (ipykernel)",
   "language": "python",
   "name": "python3"
  },
  "language_info": {
   "codemirror_mode": {
    "name": "ipython",
    "version": 3
   },
   "file_extension": ".py",
   "mimetype": "text/x-python",
   "name": "python",
   "nbconvert_exporter": "python",
   "pygments_lexer": "ipython3",
   "version": "3.10.12"
  }
 },
 "nbformat": 4,
 "nbformat_minor": 4
}
